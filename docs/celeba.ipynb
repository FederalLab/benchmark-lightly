{
 "cells": [
  {
   "cell_type": "markdown",
   "id": "61438119",
   "metadata": {},
   "source": [
    "# Celeba\n",
    "\n",
    "Our task is to determine whether the celebrity in the image is smiling. This can be easily changed to any of the binary attributes provided by the original CelebA project by modifying the `TARGET_NAME` constant in `preprocess/metadata_to_json`. We have ignored all celebrities with less than 5 images in our pipeline.\n",
    "\n",
    "```shell\n",
    "TARGET_NAME=[\n",
    "  5_o_Clock_Shadow, Arched_Eyebrows, Attractive, Bags_Under_Eyes, Bald, Bangs,\n",
    "  Big_Lips, Big_Nose, Black_Hair, Blond_Hair, Blurry, Brown_Hair, Bushy_Eyebrows,\n",
    "  Chubby, Double_Chin, Eyeglasses, Goatee, Gray_Hair, Heavy_Makeup, High_Cheekbones,\n",
    "  Male, Mouth_Slightly_Open, Mustache, Narrow_Eyes, No_Beard, Oval_Face, Pale_Skin,\n",
    "  Pointy_Nose, Receding_Hairline, Rosy_Cheeks, Sideburns, Smiling, Straight_Hair,\n",
    "  Wavy_Hair, Wearing_Earrings, Wearing_Hat, Wearing_Lipstick, Wearing_Necklace,\n",
    "  Wearing_Necktie, Young]\n",
    "```"
   ]
  },
  {
   "cell_type": "markdown",
   "id": "0b99d0d8",
   "metadata": {},
   "source": [
    "## Data Download"
   ]
  },
  {
   "cell_type": "markdown",
   "id": "89e1d54e",
   "metadata": {},
   "source": [
    "### Setup Instructions"
   ]
  },
  {
   "cell_type": "markdown",
   "id": "27306aec",
   "metadata": {},
   "source": [
    "#### Install dependencies"
   ]
  },
  {
   "cell_type": "code",
   "execution_count": 2,
   "id": "2c99c830",
   "metadata": {},
   "outputs": [
    {
     "name": "stdout",
     "output_type": "stream",
     "text": [
      "Looking in indexes: https://pypi.tuna.tsinghua.edu.cn/simple\r\n",
      "Requirement already satisfied: numpy in /Users/densechen/miniconda3/envs/openfed/lib/python3.7/site-packages (1.20.2)\r\n",
      "Requirement already satisfied: pillow in /Users/densechen/miniconda3/envs/openfed/lib/python3.7/site-packages (8.3.1)\r\n"
     ]
    }
   ],
   "source": [
    "!pip3 install numpy pillow"
   ]
  },
  {
   "cell_type": "markdown",
   "id": "9184ca73",
   "metadata": {},
   "source": [
    "#### Manually Download"
   ]
  },
  {
   "cell_type": "code",
   "execution_count": 5,
   "id": "14ea8484",
   "metadata": {},
   "outputs": [],
   "source": [
    "!cd ../benchmark/datasets/celeba && mkdir -pv data/raw"
   ]
  },
  {
   "cell_type": "markdown",
   "id": "f4a363b4",
   "metadata": {},
   "source": [
    "- From <http://mmlab.ie.cuhk.edu.hk/projects/CelebA.html>, download or request the metadata files ```identity_CelebA.txt``` and ```list_attr_celeba.txt```, place them inside the ```data/raw``` folder.\n",
    "- Download the celebrity faces dataset from the same site. Place the images in a folder named ```img_align_celeba``` in the same folder as above."
   ]
  },
  {
   "cell_type": "markdown",
   "id": "b211707a",
   "metadata": {},
   "source": [
    "#### Generate federated dataset"
   ]
  },
  {
   "cell_type": "markdown",
   "id": "ee83aa0a",
   "metadata": {},
   "source": [
    "Run `bash preprocess.sh` with a choice of the following tags:\n",
    "- `-s` := 'iid' to sample in an i.i.d. manner, or 'niid' to sample in a non-i.i.d. manner; more information on i.i.d. versus non-i.i.d. is included in the 'Notes' section\n",
    "- `--iu` := number of users, if iid sampling; expressed as a fraction of the total number of users; default is 0.01\n",
    "- `--sf` := fraction of data to sample, written as a decimal; default is 0.1\n",
    "- `-k` := minimum number of samples per user\n",
    "- `-t` := 'user' to partition users into train-test groups, or 'sample' to partition each user's samples into train-test groups\n",
    "- `--tf` := fraction of data in training set, written as a decimal; default is 0.9\n",
    "- `--smplseed` := seed to be used before random sampling of data\n",
    "- `--spltseed` := seed to be used before random split of data"
   ]
  },
  {
   "cell_type": "markdown",
   "id": "d7121956",
   "metadata": {},
   "source": [
    "**Small-sized Dataset** (Optional)"
   ]
  },
  {
   "cell_type": "code",
   "execution_count": 12,
   "id": "de89d90d",
   "metadata": {},
   "outputs": [
    {
     "name": "stdout",
     "output_type": "stream",
     "text": [
      "./preprocess.sh: line 153: realpath: command not found\n",
      "------------------------------\n",
      "sampling data\n",
      "Using seed 1632618330\n",
      "\n",
      "- random seed written out to sampling_seed.txt\n",
      "writing all_data_niid_05.json\n",
      "------------------------------\n",
      "removing users with less than 0 samples\n",
      "writing all_data_niid_05_keep_0.json\n",
      "------------------------------\n",
      "generating training and test sets\n",
      "- random seed written out to split_seed.txt\n",
      "splitting data by sample\n",
      "writing all_data_niid_05_keep_0_train_9.json\n",
      "writing all_data_niid_05_keep_0_test_9.json\n",
      "------------------------------\n",
      "calculating JSON file checksums\n",
      "checksums written to meta/dir-checksum.md5\n"
     ]
    }
   ],
   "source": [
    "# Clear tmp folder\n",
    "!cd ../benchmark/datasets/celeba/ && rm -rf data/rem_user_data data/sampled_data data/test data/train\n",
    "\n",
    "# Download data and sampling\n",
    "!cd ../benchmark/datasets/celeba/ && bash preprocess.sh -s niid --sf 0.05 -k 0 -t sample"
   ]
  },
  {
   "cell_type": "markdown",
   "id": "5d642c39",
   "metadata": {},
   "source": [
    "**Full-sized Dataset** (Optional)"
   ]
  },
  {
   "cell_type": "code",
   "execution_count": null,
   "id": "018d087e",
   "metadata": {},
   "outputs": [],
   "source": [
    "# Clear tmp folder\n",
    "!cd ../benchmark/datasets/celeba/ && rm -rf data/rem_user_data data/sampled_data data/test data/train\n",
    "\n",
    "# Download data and sampling\n",
    "!cd ../benchmark/datasets/celeba/ && bash preprocess.sh -s niid --sf 1.0 -k 0 -t sample"
   ]
  },
  {
   "cell_type": "markdown",
   "id": "917d51b0",
   "metadata": {},
   "source": [
    "### Notes\n",
    "\n",
    "- More details on i.i.d. versus non-i.i.d.:\n",
    "  - In the i.i.d. sampling scenario, each data-point is equally likely to be sampled. Thus, all users have the same underlying distribution of data.\n",
    "  - In the non-i.i.d. sampling scenario, the underlying distribution of data for each user is consistent with the raw data. Since we assume that data distributions vary between user in the raw data, we refer to this sampling process as non-i.i.d.\n",
    "- More details on `preprocess.sh`:\n",
    "  - The order in which `preprocess.sh` processes data is 1. generating all_data, 2. sampling, 3. removing users, and 4. creating train-test split. The script will look at the data in the last generated directory and continue preprocessing from that point. For example, if the `all_data` directory has already been generated and the user decides to skip sampling and only remove users with the `-k` tag (i.e. running `preprocess.sh -k 50`), the script will effectively apply a remove user filter to data in `all_data` and place the resulting data in the `rem_user_data` directory.\n",
    "  - File names provide information about the preprocessing steps taken to generate them. For example, the `all_data_niid_1_keep_64.json` file was generated by first sampling 10 percent (.1) of the data `all_data.json` in a non-i.i.d. manner and then applying the `-k 64` argument to the resulting data.\n",
    "- Each .json file is an object with 3 keys:\n",
    "  1. 'users', a list of users\n",
    "  2. 'num_samples', a list of the number of samples for each user, and\n",
    "  3. 'user_data', an object with user names as keys and their respective data as values.\n",
    "- Run `./stats.sh` to get statistics of data (`data/all_data/all_data.json` must have been generated already)\n",
    "- In order to run reference implementations in `../models` directory, the `-t sample` tag must be used when running `./preprocess.sh`"
   ]
  },
  {
   "cell_type": "markdown",
   "id": "9c21ae16",
   "metadata": {},
   "source": [
    "### Valid dataset"
   ]
  },
  {
   "cell_type": "code",
   "execution_count": 14,
   "id": "58a5dcf5",
   "metadata": {},
   "outputs": [
    {
     "name": "stdout",
     "output_type": "stream",
     "text": [
      "SimulationDataset(total_parts: 468, total_samples: 8870, current_parts: 0)\n",
      "torch.Size([3, 84, 84]) torch.Size([])\n"
     ]
    }
   ],
   "source": [
    "from benchmark.datasets.celeba import get_celeba\n",
    "dataset = get_celeba('../benchmark/datasets/celeba/data')\n",
    "print(dataset)\n",
    "x, y = dataset[0]\n",
    "print(x.shape, y.shape)"
   ]
  },
  {
   "cell_type": "markdown",
   "id": "8d1d31ab",
   "metadata": {},
   "source": [
    "## FedAvg"
   ]
  },
  {
   "cell_type": "code",
   "execution_count": 2,
   "id": "bac65641",
   "metadata": {},
   "outputs": [
    {
     "name": "stdout",
     "output_type": "stream",
     "text": [
      "Note: Stdout and stderr for collaborator-1 will be written to /tmp/openfed_node_collaborator-1_stdout, /tmp/openfed_node_collaborator-1_stderr respectively.\n",
      "Note: Stdout and stderr for collaborator-2 will be written to /tmp/openfed_node_collaborator-2_stdout, /tmp/openfed_node_collaborator-2_stderr respectively.\n",
      "Note: Stdout and stderr for collaborator-3 will be written to /tmp/openfed_node_collaborator-3_stdout, /tmp/openfed_node_collaborator-3_stderr respectively.\n",
      "Note: Stdout and stderr for collaborator-4 will be written to /tmp/openfed_node_collaborator-4_stdout, /tmp/openfed_node_collaborator-4_stderr respectively.\n",
      "Note: Stdout and stderr for collaborator-5 will be written to /tmp/openfed_node_collaborator-5_stdout, /tmp/openfed_node_collaborator-5_stderr respectively.\n",
      "Note: Stdout and stderr for collaborator-6 will be written to /tmp/openfed_node_collaborator-6_stdout, /tmp/openfed_node_collaborator-6_stderr respectively.\n",
      "Note: Stdout and stderr for collaborator-7 will be written to /tmp/openfed_node_collaborator-7_stdout, /tmp/openfed_node_collaborator-7_stderr respectively.\n",
      "Note: Stdout and stderr for collaborator-8 will be written to /tmp/openfed_node_collaborator-8_stdout, /tmp/openfed_node_collaborator-8_stderr respectively.\n",
      "Note: Stdout and stderr for collaborator-9 will be written to /tmp/openfed_node_collaborator-9_stdout, /tmp/openfed_node_collaborator-9_stderr respectively.\n",
      "Note: Stdout and stderr for collaborator-10 will be written to /tmp/openfed_node_collaborator-10_stdout, /tmp/openfed_node_collaborator-10_stderr respectively.\n",
      ">>> Load Props\n",
      "<OpenFed> FederatedProperties\n",
      "+--------------------+------------+\n",
      "|        role        | nick_name  |\n",
      "+--------------------+------------+\n",
      "| openfed_aggregator | aggregator |\n",
      "+--------------------+------------+\n",
      "<OpenFed> Address\n",
      "+---------+---------------------+------------+------+\n",
      "| backend |     init_method     | world_size | rank |\n",
      "+---------+---------------------+------------+------+\n",
      "|   gloo  | file:///...aredfile |     11     |  0   |\n",
      "+---------+---------------------+------------+------+\n",
      "\n",
      "\n",
      ">>> Seed everything...\n",
      ">>> Log argparse to json...\n",
      ">>> Config device...\n",
      "{'task': 'celeba', 'network_args': {}, 'data_root': '../benchmark/datasets/celeba/data', 'partition': 'iid', 'partition_args': {}, 'num_parts': 100, 'tst_num_parts': 10, 'dataset_args': {}, 'epochs': 1, 'rounds': 20, 'act_clts': 10, 'act_clts_rat': 1.0, 'tst_act_clts': 10, 'tst_act_clts_rat': 1.0, 'max_acg_step': -1, 'optim': 'fedavg', 'optim_args': {'momentum': 0.9, 'weight_decay': 0.0001}, 'co_lr': 0.01, 'ag_lr': 1.0, 'bz': 100, 'gpu': True, 'log_dir': 'logs/celeba/fedavg_', 'seed': 0, 'props': '/tmp/aggregator.json', 'exp_name': 'fedavg_', 'device': device(type='cpu')}\n",
      "\tLet's use cpu.\n",
      ">>> Load dataset...\n",
      "SimulationDataset(total_parts: 468, total_samples: 8870, current_parts: 0)\n",
      "SimulationDataset(total_parts: 468, total_samples: 1144, current_parts: 0)\n",
      ">>> Load dataLoader...\n",
      ">>> Build network...\n",
      "Celeba(\n",
      "  (conv1): Sequential(\n",
      "    (0): Conv2d(3, 32, kernel_size=(3, 3), stride=(1, 1), padding=(1, 1))\n",
      "    (1): BatchNorm2d(32, eps=1e-05, momentum=0.1, affine=True, track_running_stats=True)\n",
      "    (2): MaxPool2d(kernel_size=2, stride=2, padding=0, dilation=1, ceil_mode=False)\n",
      "    (3): ReLU()\n",
      "  )\n",
      "  (conv2): Sequential(\n",
      "    (0): Conv2d(32, 32, kernel_size=(3, 3), stride=(1, 1), padding=(1, 1))\n",
      "    (1): BatchNorm2d(32, eps=1e-05, momentum=0.1, affine=True, track_running_stats=True)\n",
      "    (2): MaxPool2d(kernel_size=2, stride=2, padding=0, dilation=1, ceil_mode=False)\n",
      "    (3): ReLU()\n",
      "  )\n",
      "  (conv3): Sequential(\n",
      "    (0): Conv2d(32, 32, kernel_size=(3, 3), stride=(1, 1), padding=(1, 1))\n",
      "    (1): BatchNorm2d(32, eps=1e-05, momentum=0.1, affine=True, track_running_stats=True)\n",
      "    (2): MaxPool2d(kernel_size=2, stride=2, padding=0, dilation=1, ceil_mode=False)\n",
      "    (3): ReLU()\n",
      "  )\n",
      "  (conv4): Sequential(\n",
      "    (0): Conv2d(32, 32, kernel_size=(3, 3), stride=(1, 1), padding=(1, 1))\n",
      "    (1): BatchNorm2d(32, eps=1e-05, momentum=0.1, affine=True, track_running_stats=True)\n",
      "    (2): MaxPool2d(kernel_size=2, stride=2, padding=0, dilation=1, ceil_mode=False)\n",
      "    (3): ReLU()\n",
      "  )\n",
      "  (logits): Linear(in_features=800, out_features=2, bias=True)\n",
      "  (loss_fn): CrossEntropyLoss()\n",
      ")\n",
      ">>> Move to device...\n",
      ">>> Federated Optimizer...\n",
      ">>> Lr Scheduler...\n",
      ">>> Maintainer...\n",
      "[W ProcessGroupGloo.cpp:559] Warning: Unable to resolve hostname to a (local) address. Using the loopback address as fallback. Manually set the network interface to bind to with GLOO_SOCKET_IFNAME. (function operator())\n",
      ">>> Register hooks...\n",
      "\tTrain Part: 468\n",
      "\tActivated Train Part: 10\n",
      "\tTest Part: 468\n",
      "\tActivated Test Part: 10\n",
      "train: (0.75, 40.00%) test: (0.66, 58.33%): 100%|█| 20/20 [00:19<00:00,  1.04it/\n"
     ]
    }
   ],
   "source": [
    "!python -m openfed.tools.simulator --nproc 11  --logdir /tmp ../main.py\\\n",
    "    --task celeba\\\n",
    "    --data_root ../benchmark/datasets/celeba/data\\\n",
    "    --epochs 1\\\n",
    "    --rounds 20\\\n",
    "    --act_clts 10\\\n",
    "    --tst_act_clts 10\\\n",
    "    --max_acg_step -1\\\n",
    "    --optim fedavg\\\n",
    "    --optim_args momentum:0.9 weight_decay:1e-4\\\n",
    "    --co_lr 0.01\\\n",
    "    --ag_lr 1.0\\\n",
    "    --bz 100\\\n",
    "    --gpu\\\n",
    "    --log_dir logs\\\n",
    "    --seed 0"
   ]
  },
  {
   "cell_type": "code",
   "execution_count": null,
   "id": "cf5612a0",
   "metadata": {},
   "outputs": [],
   "source": []
  }
 ],
 "metadata": {
  "kernelspec": {
   "display_name": "Python 3",
   "language": "python",
   "name": "python3"
  },
  "language_info": {
   "codemirror_mode": {
    "name": "ipython",
    "version": 3
   },
   "file_extension": ".py",
   "mimetype": "text/x-python",
   "name": "python",
   "nbconvert_exporter": "python",
   "pygments_lexer": "ipython3",
   "version": "3.7.10"
  }
 },
 "nbformat": 4,
 "nbformat_minor": 5
}
