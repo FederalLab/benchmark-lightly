{
 "cells": [
  {
   "cell_type": "markdown",
   "source": [
    "# Celeba"
   ],
   "metadata": {}
  },
  {
   "cell_type": "markdown",
   "source": [
    "```bash\n",
    "rm -rf /tmp/celeba.share\n",
    "python -m openfed.tools.launch --nproc_per_node 6  --logdir /tmp \\\n",
    "    benchmark/run.py\\\n",
    "        --fed_init_method file:///tmp/celeba.share\\\n",
    "        --task celeba\\\n",
    "        --samples 10\\\n",
    "        --data_root benchmark/datasets/celeba/data\n",
    "```"
   ],
   "metadata": {}
  }
 ],
 "metadata": {
  "kernelspec": {
   "display_name": "Python 3",
   "language": "python",
   "name": "python3"
  },
  "language_info": {
   "codemirror_mode": {
    "name": "ipython",
    "version": 3
   },
   "file_extension": ".py",
   "mimetype": "text/x-python",
   "name": "python",
   "nbconvert_exporter": "python",
   "pygments_lexer": "ipython3",
   "version": "3.7.10"
  }
 },
 "nbformat": 4,
 "nbformat_minor": 5
}