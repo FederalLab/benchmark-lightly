{
 "cells": [
  {
   "cell_type": "markdown",
   "id": "1a5d2e68",
   "metadata": {},
   "source": [
    "# FEMNIST"
   ]
  },
  {
   "cell_type": "markdown",
   "id": "1711af9d",
   "metadata": {},
   "source": [
    "## Data Download"
   ]
  },
  {
   "cell_type": "markdown",
   "id": "a45e863e",
   "metadata": {},
   "source": [
    "### Setup Instructions"
   ]
  },
  {
   "cell_type": "markdown",
   "id": "bcec4177",
   "metadata": {},
   "source": [
    "#### Install dependencies"
   ]
  },
  {
   "cell_type": "code",
   "execution_count": 1,
   "id": "6d32ea3c",
   "metadata": {},
   "outputs": [
    {
     "name": "stdout",
     "output_type": "stream",
     "text": [
      "Looking in indexes: https://pypi.tuna.tsinghua.edu.cn/simple\r\n",
      "Requirement already satisfied: numpy in /Users/densechen/miniconda3/envs/openfed/lib/python3.7/site-packages (1.20.2)\r\n",
      "Requirement already satisfied: pillow in /Users/densechen/miniconda3/envs/openfed/lib/python3.7/site-packages (8.3.1)\r\n"
     ]
    }
   ],
   "source": [
    "!pip3 install numpy pillow"
   ]
  },
  {
   "cell_type": "markdown",
   "id": "851661a6",
   "metadata": {},
   "source": [
    "#### Generate federated dataset\n",
    "\n",
    "Run `bash preprocess.sh` with a choice of the following tags:\n",
    "  - `-s` := 'iid' to sample in an i.i.d. manner, or 'niid' to sample in a non-i.i.d. manner; more information on i.i.d. versus non-i.i.d. is included in the 'Notes' section\n",
    "  - `--iu` := number of users, if iid sampling; expressed as a fraction of the total number of users; default is 0.01\n",
    "  - `--sf` := fraction of data to sample, written as a decimal; default is 0.1\n",
    "  - `-k` := minimum number of samples per user\n",
    "  - `-t` := 'user' to partition users into train-test groups, or 'sample' to partition each user's samples into train-test groups\n",
    "  - `--tf` := fraction of data in training set, written as a decimal; default is 0.9\n",
    "  - `--smplseed` := seed to be used before random sampling of data\n",
    "  - `--spltseed` :=  seed to be used before random split of data"
   ]
  },
  {
   "cell_type": "markdown",
   "id": "3fb1570f",
   "metadata": {},
   "source": [
    "**Small-sized Dataset** (Optional)"
   ]
  },
  {
   "cell_type": "code",
   "execution_count": 7,
   "id": "e3cd8115",
   "metadata": {},
   "outputs": [
    {
     "name": "stdout",
     "output_type": "stream",
     "text": [
      "./preprocess.sh: line 153: realpath: command not found\n",
      "------------------------------\n",
      "sampling data\n",
      "Using seed 1632618444\n",
      "\n",
      "- random seed written out to sampling_seed.txt\n",
      "writing all_data_1_niid_05.json\n",
      "writing all_data_0_niid_05.json\n",
      "writing all_data_6_niid_05.json\n",
      "writing all_data_5_niid_05.json\n",
      "writing all_data_4_niid_05.json\n",
      "writing all_data_3_niid_05.json\n",
      "writing all_data_2_niid_05.json\n",
      "------------------------------\n",
      "removing users with less than 0 samples\n",
      "writing all_data_0_niid_05_keep_0.json\n",
      "writing all_data_1_niid_05_keep_0.json\n",
      "writing all_data_6_niid_05_keep_0.json\n",
      "writing all_data_4_niid_05_keep_0.json\n",
      "writing all_data_3_niid_05_keep_0.json\n",
      "writing all_data_2_niid_05_keep_0.json\n",
      "writing all_data_5_niid_05_keep_0.json\n",
      "------------------------------\n",
      "generating training and test sets\n",
      "- random seed written out to split_seed.txt\n",
      "splitting data by sample\n",
      "writing all_data_0_niid_05_keep_0_train_9.json\n",
      "writing all_data_0_niid_05_keep_0_test_9.json\n",
      "writing all_data_1_niid_05_keep_0_train_9.json\n",
      "writing all_data_1_niid_05_keep_0_test_9.json\n",
      "writing all_data_2_niid_05_keep_0_train_9.json\n",
      "writing all_data_2_niid_05_keep_0_test_9.json\n",
      "writing all_data_3_niid_05_keep_0_train_9.json\n",
      "writing all_data_3_niid_05_keep_0_test_9.json\n",
      "writing all_data_5_niid_05_keep_0_train_9.json\n",
      "writing all_data_5_niid_05_keep_0_test_9.json\n",
      "writing all_data_4_niid_05_keep_0_train_9.json\n",
      "writing all_data_4_niid_05_keep_0_test_9.json\n",
      "writing all_data_6_niid_05_keep_0_train_9.json\n",
      "writing all_data_6_niid_05_keep_0_test_9.json\n",
      "------------------------------\n",
      "calculating JSON file checksums\n",
      "find: fts_read: Invalid argument\n",
      "checksums written to meta/dir-checksum.md5\n"
     ]
    }
   ],
   "source": [
    "# Clear tmp folder\n",
    "!cd ../benchmark/datasets/femnist/ && rm -rf data/rem_user_data data/sampled_data data/test data/train\n",
    "\n",
    "# Download data and sampling\n",
    "!cd ../benchmark/datasets/femnist/ && bash preprocess.sh -s niid --sf 0.05 -k 0 -t sample"
   ]
  },
  {
   "cell_type": "markdown",
   "id": "dd83a892",
   "metadata": {},
   "source": [
    "**Full-sized Dataset** (Optional)"
   ]
  },
  {
   "cell_type": "code",
   "execution_count": null,
   "id": "3965f857",
   "metadata": {},
   "outputs": [],
   "source": [
    "# Clear tmp folder\n",
    "!cd ../benchmark/datasets/femnist/ && rm -rf data/rem_user_data data/sampled_data data/test data/train\n",
    "\n",
    "# Download data and sampling\n",
    "!cd ../benchmark/datasets/femnist/ && bash preprocess.sh -s niid --sf 1.0 -k 0 -t sample"
   ]
  },
  {
   "cell_type": "markdown",
   "id": "1af8ab95",
   "metadata": {},
   "source": [
    "### Notes\n",
    "\n",
    "- More details on i.i.d. versus non-i.i.d.:\n",
    "  - In the i.i.d. sampling scenario, each data-point is equally likely to be sampled. Thus, all users have the same underlying distribution of data.\n",
    "  - In the non-i.i.d. sampling scenario, the underlying distribution of data for each user is consistent with the raw data. Since we assume that data distributions vary between user in the raw data, we refer to this sampling process as non-i.i.d.\n",
    "- More details on `preprocess.sh`:\n",
    "  - The order in which `preprocess.sh` processes data is 1. generating all_data, 2. sampling, 3. removing users, and 4. creating train-test split. The script will look at the data in the last generated directory and continue preprocessing from that point. For example, if the `all_data` directory has already been generated and the user decides to skip sampling and only remove users with the `-k` tag (i.e. running `preprocess.sh -k 50`), the script will effectively apply a remove user filter to data in `all_data` and place the resulting data in the `rem_user_data` directory.\n",
    "  - File names provide information about the preprocessing steps taken to generate them. For example, the `all_data_niid_1_keep_64.json` file was generated by first sampling 10 percent (.1) of the data `all_data.json` in a non-i.i.d. manner and then applying the `-k 64` argument to the resulting data.\n",
    "- Each .json file is an object with 3 keys:\n",
    "  1. 'users', a list of users\n",
    "  2. 'num_samples', a list of the number of samples for each user, and\n",
    "  3. 'user_data', an object with user names as keys and their respective data as values; for each user, data is represented as a list of images, with each image represented as a size-784 integer list (flattened from 28 by 28)\n",
    "- Run `./stats.sh` to get statistics of data (data/all_data/all_data.json must have been generated already)\n",
    "- In order to run reference implementations in `../models` directory, the `-t sample` tag must be used when running `./preprocess.sh`"
   ]
  },
  {
   "cell_type": "markdown",
   "id": "5dfea69a",
   "metadata": {},
   "source": [
    "### Valid Dataset"
   ]
  },
  {
   "cell_type": "code",
   "execution_count": 2,
   "id": "55b6acea",
   "metadata": {},
   "outputs": [
    {
     "name": "stdout",
     "output_type": "stream",
     "text": [
      "SimulationDataset(total_parts: 36, total_samples: 8964, current_parts: 0)\n",
      "torch.Size([784]) torch.Size([])\n"
     ]
    }
   ],
   "source": [
    "from benchmark.datasets.femnist import get_femnist\n",
    "dataset = get_femnist('../benchmark/datasets/femnist/data')\n",
    "print(dataset)\n",
    "x, y = dataset[0]\n",
    "print(x.shape, y.shape)"
   ]
  },
  {
   "cell_type": "markdown",
   "id": "8f94229c",
   "metadata": {},
   "source": [
    "## FedAvg, FedSGD, FedEla, FedProx, FedScaffold\n",
    "\n",
    "Run following commands in the root path of `benchmark-lightly`.\n",
    "\n",
    "```bash\n",
    "function cmd(){\n",
    "    fed_optim=$1\n",
    "\n",
    "    task_name=\"femnist\"\n",
    "    exp_name=${fed_optim}_${task_name}\n",
    "\n",
    "    # Delete cache file\n",
    "    rm -rf /tmp/${exp_name}.share\n",
    "    rm -rf /tmp/${exp_name}\n",
    "    rm -rf ./logs/${task_name}/${fed_optim}\n",
    "\n",
    "    # Run\n",
    "    python -m openfed.tools.launch --nproc_per_node 6  --logdir /tmp benchmark/run.py\\\n",
    "        --fed_init_method file:///tmp/${exp_name}.share\\\n",
    "        --task ${task_name}\\\n",
    "        --data_root benchmark/datasets/${task_name}/data\\\n",
    "        --epochs 1\\\n",
    "        --rounds 20\\\n",
    "        --act_clts 100\\\n",
    "        --tst_act_clts 100\\\n",
    "        --max_acg_step -1\\\n",
    "        --optim ${fed_optim}\\\n",
    "        --optim_args momentum:0.9 weight_decay:1e-4\\\n",
    "        --follower_lr 1e-1\\\n",
    "        --leader_lr 1.0\\\n",
    "        --bz 10\\\n",
    "        --gpu\\\n",
    "        --log_level SUCCESS\\\n",
    "        --log_dir logs\\\n",
    "        --exp_name ${exp_name}\\\n",
    "        --seed 0\n",
    "}\n",
    "```"
   ]
  },
  {
   "cell_type": "markdown",
   "id": "0c5f9be7",
   "metadata": {},
   "source": [
    "### Run All\n",
    "\n",
    "```bash\n",
    "cmd 'fedavg'; cmd 'fedsgd'; cmd 'fedela'; cmd 'fedprox'; cmd 'fedscaffold'\n",
    "```"
   ]
  },
  {
   "cell_type": "markdown",
   "id": "836db013",
   "metadata": {},
   "source": [
    "## Plot Curves"
   ]
  },
  {
   "cell_type": "code",
   "execution_count": null,
   "id": "3f43619f",
   "metadata": {},
   "outputs": [],
   "source": [
    "%matplotlib inline\n",
    "\n",
    "from benchmark.utils.plot import plot\n",
    "\n",
    "task_name = \"femnist\"\n",
    "\n",
    "items = dict(\n",
    "    FedAvg=f'../logs/{task_name}/fedavg_{task_name}/{task_name}.json',\n",
    "    FedSgd=f'../logs/{task_name}/fedsgd_{task_name}/{task_name}.json',\n",
    "    FedEla=f'../logs/{task_name}/fedela_{task_name}/{task_name}.json',\n",
    "    FedProx=f'../logs/{task_name}/fedprox_{task_name}/{task_name}.json',\n",
    "    FedScaffold=f'../logs/{task_name}/fedscaffold_{task_name}/{task_name}.json',\n",
    ")\n",
    "\n",
    "files = items.values()\n",
    "labels = items.keys()"
   ]
  },
  {
   "cell_type": "markdown",
   "id": "7d6bdc12",
   "metadata": {},
   "source": [
    "### Train Accuracy"
   ]
  },
  {
   "cell_type": "code",
   "execution_count": null,
   "id": "c8635c68",
   "metadata": {},
   "outputs": [],
   "source": [
    "plot(\n",
    "    files=files,\n",
    "    labels=labels,\n",
    "    attributes=\"accuracy\",\n",
    "    mode='train'\n",
    ")"
   ]
  },
  {
   "cell_type": "markdown",
   "id": "ffcc230c",
   "metadata": {},
   "source": [
    "### Train Loss"
   ]
  },
  {
   "cell_type": "code",
   "execution_count": null,
   "id": "f233dd56",
   "metadata": {},
   "outputs": [],
   "source": [
    "plot(\n",
    "    files=files,\n",
    "    labels=labels,\n",
    "    attributes=\"loss\",\n",
    "    mode=\"train\"\n",
    ")"
   ]
  },
  {
   "cell_type": "markdown",
   "id": "9cc2c74f",
   "metadata": {},
   "source": [
    "### Test Accuracy"
   ]
  },
  {
   "cell_type": "code",
   "execution_count": null,
   "id": "5472fe89",
   "metadata": {},
   "outputs": [],
   "source": [
    "plot(\n",
    "    files=files,\n",
    "    labels=labels,\n",
    "    attributes=\"accuracy\",\n",
    "    mode=\"test\"\n",
    ")"
   ]
  },
  {
   "cell_type": "markdown",
   "id": "b03a924f",
   "metadata": {},
   "source": [
    "### Test Loss"
   ]
  },
  {
   "cell_type": "code",
   "execution_count": null,
   "id": "daf06b98",
   "metadata": {},
   "outputs": [],
   "source": [
    "plot(\n",
    "    files=files,\n",
    "    labels=labels,\n",
    "    attributes=\"loss\",\n",
    "    mode='test'\n",
    ")"
   ]
  }
 ],
 "metadata": {
  "kernelspec": {
   "display_name": "Python 3",
   "language": "python",
   "name": "python3"
  },
  "language_info": {
   "codemirror_mode": {
    "name": "ipython",
    "version": 3
   },
   "file_extension": ".py",
   "mimetype": "text/x-python",
   "name": "python",
   "nbconvert_exporter": "python",
   "pygments_lexer": "ipython3",
   "version": "3.7.10"
  }
 },
 "nbformat": 4,
 "nbformat_minor": 5
}
