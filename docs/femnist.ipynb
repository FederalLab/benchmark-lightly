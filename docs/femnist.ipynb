{
 "cells": [
  {
   "cell_type": "markdown",
   "id": "1a5d2e68",
   "metadata": {},
   "source": [
    "# Femnist"
   ]
  },
  {
   "cell_type": "markdown",
   "id": "8f94229c",
   "metadata": {},
   "source": [
    "## FedAvg, FedSGD, FedEla, FedProx, FedScaffold\n",
    "\n",
    "Run following commands in the root path of `benchmark-lightly`."
   ]
  },
  {
   "cell_type": "markdown",
   "id": "0c5f9be7",
   "metadata": {},
   "source": [
    "### FedAvg\n",
    "\n",
    "```bash\n",
    "fed_optim=\"fedavg\"\n",
    "\n",
    "task_name=\"femnist\"\n",
    "exp_name=${fed_optim}_${task_name}\n",
    "\n",
    "# Delete cache file\n",
    "rm -rf /tmp/${exp_name}.share\n",
    "rm -rf /tmp/${exp_name}\n",
    "rm -rf ./logs/${task_name}/${fed_optim}\n",
    "\n",
    "# Run\n",
    "python -m openfed.tools.launch --nproc_per_node 6  --logdir /tmp benchmark/run.py\\\n",
    "    --fed_init_method file:///tmp/${exp_name}.share\\\n",
    "    --task ${task_name}\\\n",
    "    --data_root benchmark/datasets/${task_name}/data\\\n",
    "    --epochs 1\\\n",
    "    --rounds 20\\\n",
    "    --act_clts 100\\\n",
    "    --tst_act_clts 100\\\n",
    "    --max_acg_step -1\\\n",
    "    --optim ${fed_optim}\\\n",
    "    --optim_args momentum:0.9 weight_decay:1e-4\\\n",
    "    --follower_lr 1e-1\\\n",
    "    --leader_lr 10.0\\\n",
    "    --bz 10\\\n",
    "    --gpu\\\n",
    "    --log_level SUCCESS\\\n",
    "    --log_dir logs\\\n",
    "    --exp_name ${exp_name}\\\n",
    "    --seed 0\n",
    "```"
   ]
  },
  {
   "cell_type": "markdown",
   "id": "e24a8759",
   "metadata": {},
   "source": [
    "### FedSgd\n",
    "\n",
    "```bash\n",
    "fed_optim=\"fedsgd\"\n",
    "\n",
    "task_name=\"femnist\"\n",
    "exp_name=${fed_optim}_${task_name}\n",
    "\n",
    "# Delete cache file\n",
    "rm -rf /tmp/${exp_name}.share\n",
    "rm -rf /tmp/${exp_name}\n",
    "rm -rf ./logs/${task_name}/${fed_optim}\n",
    "\n",
    "# Run\n",
    "python -m openfed.tools.launch --nproc_per_node 6  --logdir /tmp benchmark/run.py\\\n",
    "    --fed_init_method file:///tmp/${exp_name}.share\\\n",
    "    --task ${task_name}\\\n",
    "    --data_root benchmark/datasets/${task_name}/data\\\n",
    "    --epochs 1\\\n",
    "    --rounds 20\\\n",
    "    --act_clts 100\\\n",
    "    --tst_act_clts 100\\\n",
    "    --max_acg_step -1\\\n",
    "    --optim ${fed_optim}\\\n",
    "    --optim_args momentum:0.9 weight_decay:1e-4\\\n",
    "    --follower_lr 1e-1\\\n",
    "    --leader_lr 10.0\\\n",
    "    --bz 10\\\n",
    "    --gpu\\\n",
    "    --log_level SUCCESS\\\n",
    "    --log_dir logs\\\n",
    "    --exp_name ${exp_name}\\\n",
    "    --seed 0\n",
    "```"
   ]
  },
  {
   "cell_type": "markdown",
   "id": "6048188c",
   "metadata": {},
   "source": [
    "### FedEla\n",
    "\n",
    "```bash\n",
    "fed_optim=\"fedela\"\n",
    "\n",
    "task_name=\"femnist\"\n",
    "exp_name=${fed_optim}_${task_name}\n",
    "\n",
    "# Delete cache file\n",
    "rm -rf /tmp/${exp_name}.share\n",
    "rm -rf /tmp/${exp_name}\n",
    "rm -rf ./logs/${task_name}/${fed_optim}\n",
    "\n",
    "# Run\n",
    "python -m openfed.tools.launch --nproc_per_node 6  --logdir /tmp benchmark/run.py\\\n",
    "    --fed_init_method file:///tmp/${exp_name}.share\\\n",
    "    --task ${task_name}\\\n",
    "    --data_root benchmark/datasets/${task_name}/data\\\n",
    "    --epochs 1\\\n",
    "    --rounds 20\\\n",
    "    --act_clts 100\\\n",
    "    --tst_act_clts 100\\\n",
    "    --max_acg_step -1\\\n",
    "    --optim ${fed_optim}\\\n",
    "    --optim_args momentum:0.9 weight_decay:1e-4\\\n",
    "    --follower_lr 1e-1\\\n",
    "    --leader_lr 10.0\\\n",
    "    --bz 10\\\n",
    "    --gpu\\\n",
    "    --log_level SUCCESS\\\n",
    "    --log_dir logs\\\n",
    "    --exp_name ${exp_name}\\\n",
    "    --seed 0\n",
    "```"
   ]
  },
  {
   "cell_type": "markdown",
   "id": "99a24993",
   "metadata": {},
   "source": [
    "### FedProx\n",
    "\n",
    "```bash\n",
    "fed_optim=\"fedprox\"\n",
    "\n",
    "task_name=\"femnist\"\n",
    "exp_name=${fed_optim}_${task_name}\n",
    "\n",
    "# Delete cache file\n",
    "rm -rf /tmp/${exp_name}.share\n",
    "rm -rf /tmp/${exp_name}\n",
    "rm -rf ./logs/${task_name}/${fed_optim}\n",
    "\n",
    "# Run\n",
    "python -m openfed.tools.launch --nproc_per_node 6  --logdir /tmp benchmark/run.py\\\n",
    "    --fed_init_method file:///tmp/${exp_name}.share\\\n",
    "    --task ${task_name}\\\n",
    "    --data_root benchmark/datasets/${task_name}/data\\\n",
    "    --epochs 1\\\n",
    "    --rounds 20\\\n",
    "    --act_clts 100\\\n",
    "    --tst_act_clts 100\\\n",
    "    --max_acg_step -1\\\n",
    "    --optim ${fed_optim}\\\n",
    "    --optim_args momentum:0.9 weight_decay:1e-4\\\n",
    "    --follower_lr 1e-1\\\n",
    "    --leader_lr 10.0\\\n",
    "    --bz 10\\\n",
    "    --gpu\\\n",
    "    --log_level SUCCESS\\\n",
    "    --log_dir logs\\\n",
    "    --exp_name ${exp_name}\\\n",
    "    --seed 0\n",
    "```"
   ]
  },
  {
   "cell_type": "markdown",
   "id": "98960ebe",
   "metadata": {},
   "source": [
    "### FedScaffold\n",
    "\n",
    "```bash\n",
    "fed_optim=\"fedscaffold\"\n",
    "\n",
    "task_name=\"femnist\"\n",
    "exp_name=${fed_optim}_${task_name}\n",
    "\n",
    "# Delete cache file\n",
    "rm -rf /tmp/${exp_name}.share\n",
    "rm -rf /tmp/${exp_name}\n",
    "rm -rf ./logs/${task_name}/${fed_optim}\n",
    "\n",
    "# Run\n",
    "python -m openfed.tools.launch --nproc_per_node 6  --logdir /tmp benchmark/run.py\\\n",
    "    --fed_init_method file:///tmp/${exp_name}.share\\\n",
    "    --task ${task_name}\\\n",
    "    --data_root benchmark/datasets/${task_name}/data\\\n",
    "    --epochs 1\\\n",
    "    --rounds 20\\\n",
    "    --act_clts 100\\\n",
    "    --tst_act_clts 100\\\n",
    "    --max_acg_step -1\\\n",
    "    --optim ${fed_optim}\\\n",
    "    --optim_args momentum:0.9 weight_decay:1e-4\\\n",
    "    --follower_lr 1e-1\\\n",
    "    --leader_lr 10.0\\\n",
    "    --bz 10\\\n",
    "    --gpu\\\n",
    "    --log_level SUCCESS\\\n",
    "    --log_dir logs\\\n",
    "    --exp_name ${exp_name}\\\n",
    "    --seed 0\n",
    "```"
   ]
  },
  {
   "cell_type": "markdown",
   "id": "836db013",
   "metadata": {},
   "source": [
    "## Plot Curves"
   ]
  },
  {
   "cell_type": "code",
   "execution_count": null,
   "id": "3f43619f",
   "metadata": {},
   "outputs": [],
   "source": [
    "%matplotlib inline\n",
    "\n",
    "from benchmark.utils.plot import plot\n",
    "\n",
    "task_name = \"femnist\"\n",
    "\n",
    "items = dict(\n",
    "    FedAvg=f'../logs/{task_name}/fedavg_{task_name}/{task_name}.json',\n",
    "    FedSgd=f'../logs/{task_name}/fedsgd_{task_name}/{task_name}.json',\n",
    "    FedEla=f'../logs/{task_name}/fedela_{task_name}/{task_name}.json',\n",
    "    FedProx=f'../logs/{task_name}/fedprox_{task_name}/{task_name}.json',\n",
    "    FedScaffold=f'../logs/{task_name}/fedscaffold_{task_name}/{task_name}.json',\n",
    ")\n",
    "\n",
    "files = items.values()\n",
    "labels = items.keys()"
   ]
  },
  {
   "cell_type": "markdown",
   "id": "7d6bdc12",
   "metadata": {},
   "source": [
    "### Train Accuracy"
   ]
  },
  {
   "cell_type": "code",
   "execution_count": null,
   "id": "c8635c68",
   "metadata": {},
   "outputs": [],
   "source": [
    "plot(\n",
    "    files=files,\n",
    "    labels=labels,\n",
    "    attributes=\"accuracy\",\n",
    "    mode='train'\n",
    ")"
   ]
  },
  {
   "cell_type": "markdown",
   "id": "ffcc230c",
   "metadata": {},
   "source": [
    "### Train Loss"
   ]
  },
  {
   "cell_type": "code",
   "execution_count": null,
   "id": "f233dd56",
   "metadata": {},
   "outputs": [],
   "source": [
    "plot(\n",
    "    files=files,\n",
    "    labels=labels,\n",
    "    attributes=\"loss\",\n",
    "    mode=\"train\"\n",
    ")"
   ]
  },
  {
   "cell_type": "markdown",
   "id": "9cc2c74f",
   "metadata": {},
   "source": [
    "### Test Accuracy"
   ]
  },
  {
   "cell_type": "code",
   "execution_count": null,
   "id": "5472fe89",
   "metadata": {},
   "outputs": [],
   "source": [
    "plot(\n",
    "    files=files,\n",
    "    labels=labels,\n",
    "    attributes=\"accuracy\",\n",
    "    mode=\"test\"\n",
    ")"
   ]
  },
  {
   "cell_type": "markdown",
   "id": "b03a924f",
   "metadata": {},
   "source": [
    "### Test Loss"
   ]
  },
  {
   "cell_type": "code",
   "execution_count": null,
   "id": "daf06b98",
   "metadata": {},
   "outputs": [],
   "source": [
    "plot(\n",
    "    files=files,\n",
    "    labels=labels,\n",
    "    attributes=\"loss\",\n",
    "    mode='test'\n",
    ")"
   ]
  }
 ],
 "metadata": {
  "kernelspec": {
   "display_name": "Python 3",
   "language": "python",
   "name": "python3"
  },
  "language_info": {
   "codemirror_mode": {
    "name": "ipython",
    "version": 3
   },
   "file_extension": ".py",
   "mimetype": "text/x-python",
   "name": "python",
   "nbconvert_exporter": "python",
   "pygments_lexer": "ipython3",
   "version": "3.7.10"
  }
 },
 "nbformat": 4,
 "nbformat_minor": 5
}
