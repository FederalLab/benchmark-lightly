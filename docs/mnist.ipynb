{
 "cells": [
  {
   "cell_type": "markdown",
   "id": "015f8053",
   "metadata": {},
   "source": [
    "# mnist"
   ]
  },
  {
   "cell_type": "markdown",
   "id": "b06d74c1",
   "metadata": {},
   "source": [
    "## FedAvg, FedSGD, FedEla, FedProx, FedScaffold\n",
    "\n",
    "Run following commands in the root path of this"
   ]
  },
  {
   "cell_type": "markdown",
   "id": "ad831d8a",
   "metadata": {},
   "source": [
    "### FedAvg\n",
    "\n",
    "```bash\n",
    "# Delete cache file\n",
    "rm -rf /tmp/fedavg_dirichlet.share\n",
    "rm -rf /tmp/mnist/fedavg_dirichlet\n",
    "rm -rf ./logs/mnist/fedavg_dirichlet\n",
    "# Run\n",
    "python -m openfed.tools.launch --nproc_per_node 6  --logdir /tmp benchmark/run.py\\\n",
    "    --fed_init_method file:///tmp/fedavg_dirichlet.share\\\n",
    "    --task mnist\\\n",
    "    --network_args input_dim:784\\\n",
    "    --data_root benchmark/datasets/mnist/data\\\n",
    "    --partition dirichlet\\\n",
    "    --num_parts 1000\\\n",
    "    --epochs 1\\\n",
    "    --rounds 20\\\n",
    "    --act_clts 100\\\n",
    "    --tst_act_clts 100\\\n",
    "    --max_acg_step -1\\\n",
    "    --optim fedavg\\\n",
    "    --follower_lr 1e-2\\\n",
    "    --leader_lr 10.0\\\n",
    "    --bz 10\\\n",
    "    --gpu\\\n",
    "    --log_level SUCCESS\\\n",
    "    --log_dir logs\\\n",
    "    --exp_name fedavg_dirichlet\\\n",
    "    --seed 0\n",
    "```"
   ]
  },
  {
   "cell_type": "markdown",
   "id": "8a7190c1",
   "metadata": {},
   "source": [
    "### FedSGD\n",
    "\n",
    "```bash\n",
    "# Delete cache file\n",
    "rm -rf /tmp/fedsgd_dirichlet.share\n",
    "rm -rf /tmp/mnist/fedsgd_dirichlet\n",
    "rm -rf ./logs/mnist/fedsgd_dirichlet\n",
    "# Run\n",
    "python -m openfed.tools.launch --nproc_per_node 6  --logdir /tmp benchmark/run.py\\\n",
    "    --fed_init_method file:///tmp/fedsgd_dirichlet.share\\\n",
    "    --task mnist\\\n",
    "    --network_args input_dim:784\\\n",
    "    --data_root benchmark/datasets/mnist/data\\\n",
    "    --partition dirichlet\\\n",
    "    --num_parts 1000\\\n",
    "    --epochs 1\\\n",
    "    --rounds 20\\\n",
    "    --act_clts 100\\\n",
    "    --tst_act_clts 100\\\n",
    "    --max_acg_step -1\\\n",
    "    --optim fedsgd\\\n",
    "    --follower_lr 1e-2\\\n",
    "    --leader_lr 10.0\\\n",
    "    --bz 10\\\n",
    "    --gpu\\\n",
    "    --log_level SUCCESS\\\n",
    "    --log_dir logs\\\n",
    "    --exp_name fedsgd_dirichlet\\\n",
    "    --seed 0\n",
    "```"
   ]
  },
  {
   "cell_type": "markdown",
   "id": "91b622d6",
   "metadata": {},
   "source": [
    "### FedEla\n",
    "\n",
    "```bash\n",
    "# Delete cache file\n",
    "rm -rf /tmp/fedela_dirichlet.share\n",
    "rm -rf /tmp/mnist/fedela_dirichlet\n",
    "rm -rf ./logs/mnist/fedela_dirichlet\n",
    "# Run\n",
    "python -m openfed.tools.launch --nproc_per_node 6  --logdir /tmp benchmark/run.py\\\n",
    "    --fed_init_method file:///tmp/fedela_dirichlet.share\\\n",
    "    --task mnist\\\n",
    "    --network_args input_dim:784\\\n",
    "    --data_root benchmark/datasets/mnist/data\\\n",
    "    --partition dirichlet\\\n",
    "    --num_parts 1000\\\n",
    "    --epochs 1\\\n",
    "    --rounds 20\\\n",
    "    --act_clts 100\\\n",
    "    --tst_act_clts 100\\\n",
    "    --max_acg_step -1\\\n",
    "    --optim fedela\\\n",
    "    --follower_lr 1e-2\\\n",
    "    --leader_lr 10.0\\\n",
    "    --bz 10\\\n",
    "    --gpu\\\n",
    "    --log_level SUCCESS\\\n",
    "    --log_dir logs\\\n",
    "    --exp_name fedela_dirichlet\\\n",
    "    --seed 0\n",
    "```"
   ]
  },
  {
   "cell_type": "markdown",
   "id": "5db45ad2",
   "metadata": {},
   "source": [
    "### FedProx\n",
    "\n",
    "```bash\n",
    "# Delete cache file\n",
    "rm -rf /tmp/fedprox_dirichlet.share\n",
    "rm -rf /tmp/mnist/fedprox_dirichlet\n",
    "rm -rf ./logs/mnist/fedprox_dirichlet\n",
    "# Run\n",
    "python -m openfed.tools.launch --nproc_per_node 6  --logdir /tmp benchmark/run.py\\\n",
    "    --fed_init_method file:///tmp/fedprox_dirichlet.share\\\n",
    "    --task mnist\\\n",
    "    --network_args input_dim:784\\\n",
    "    --data_root benchmark/datasets/mnist/data\\\n",
    "    --partition dirichlet\\\n",
    "    --num_parts 1000\\\n",
    "    --epochs 1\\\n",
    "    --rounds 20\\\n",
    "    --act_clts 100\\\n",
    "    --tst_act_clts 100\\\n",
    "    --max_acg_step -1\\\n",
    "    --optim fedprox\\\n",
    "    --follower_lr 1e-2\\\n",
    "    --leader_lr 10.0\\\n",
    "    --bz 10\\\n",
    "    --gpu\\\n",
    "    --log_level SUCCESS\\\n",
    "    --log_dir logs\\\n",
    "    --exp_name fedprox_dirichlet\\\n",
    "    --seed 0\n",
    "```"
   ]
  },
  {
   "cell_type": "markdown",
   "id": "b4bfdf77",
   "metadata": {},
   "source": [
    "### FedScaffold\n",
    "\n",
    "```bash\n",
    "# Delete cache file\n",
    "rm -rf /tmp/fedscaffold_dirichlet.share\n",
    "rm -rf /tmp/mnist/fedscaffold_dirichlet\n",
    "rm -rf ./logs/mnist/fedscaffold_dirichlet\n",
    "# Run\n",
    "python -m openfed.tools.launch --nproc_per_node 6  --logdir /tmp benchmark/run.py\\\n",
    "    --fed_init_method file:///tmp/fedscaffold_dirichlet.share\\\n",
    "    --task mnist\\\n",
    "    --network_args input_dim:784\\\n",
    "    --data_root benchmark/datasets/mnist/data\\\n",
    "    --partition dirichlet\\\n",
    "    --num_parts 1000\\\n",
    "    --epochs 1\\\n",
    "    --rounds 20\\\n",
    "    --act_clts 100\\\n",
    "    --tst_act_clts 100\\\n",
    "    --max_acg_step -1\\\n",
    "    --optim fedscaffold\\\n",
    "    --follower_lr 1e-2\\\n",
    "    --leader_lr 10.0\\\n",
    "    --bz 10\\\n",
    "    --gpu\\\n",
    "    --log_level SUCCESS\\\n",
    "    --log_dir logs\\\n",
    "    --exp_name fedscaffold_dirichlet\\\n",
    "    --seed 0\n",
    "```"
   ]
  },
  {
   "cell_type": "markdown",
   "id": "c427030a",
   "metadata": {},
   "source": [
    "### Plot results"
   ]
  },
  {
   "cell_type": "code",
   "execution_count": 6,
   "id": "adcdca78",
   "metadata": {},
   "outputs": [],
   "source": [
    "%matplotlib inline\n",
    "\n",
    "from benchmark.utils.plot import plot"
   ]
  },
  {
   "cell_type": "code",
   "execution_count": 7,
   "id": "9da0afa5",
   "metadata": {},
   "outputs": [
    {
     "data": {
      "image/png": "[encoded data removed]",
      "text/plain": [
       "<Figure size 432x288 with 1 Axes>"
      ]
     },
     "metadata": {
      "needs_background": "light"
     },
     "output_type": "display_data"
    }
   ],
   "source": [
    "# Train Accuracy\n",
    "plot(\n",
    "    files=[\n",
    "        '../logs/mnist/fed_avg_dirichlet/mnist.json',\n",
    "        '../logs/mnist/fed_sgd_dirichlet/mnist.json',\n",
    "        # '../logs/mnist/fed_ela_dirichlet/mnist.json',\n",
    "        # '../logs/mnist/fed_prox_dirichlet/mnist.json',\n",
    "        # '../logs/mnist/fed_scaffold_dirichlet/mnist.json',\n",
    "    ],\n",
    "    labels=[\n",
    "        'FedAvg',\n",
    "        'FedSgd',\n",
    "        # 'FedEla',\n",
    "        # 'FedProx',\n",
    "        # 'FedScaffold',\n",
    "    ],\n",
    "    attributes=\"accuracy\",\n",
    "    mode='train'\n",
    ")"
   ]
  },
  {
   "cell_type": "code",
   "execution_count": 8,
   "id": "2817a343",
   "metadata": {},
   "outputs": [
    {
     "data": {
      "image/png": "[encoded data removed]",
      "text/plain": [
       "<Figure size 432x288 with 1 Axes>"
      ]
     },
     "metadata": {
      "needs_background": "light"
     },
     "output_type": "display_data"
    }
   ],
   "source": [
    "# Train Loss\n",
    "plot(\n",
    "    files=[\n",
    "        '../logs/mnist/fed_avg_dirichlet/mnist.json',\n",
    "        '../logs/mnist/fed_sgd_dirichlet/mnist.json',\n",
    "        # '../logs/mnist/fed_ela_dirichlet/mnist.json',\n",
    "        # '../logs/mnist/fed_prox_dirichlet/mnist.json',\n",
    "        # '../logs/mnist/fed_scaffold_dirichlet/mnist.json',\n",
    "    ],\n",
    "    labels=[\n",
    "        'FedAvg',\n",
    "        'FedSgd',\n",
    "        # 'FedEla',\n",
    "        # 'FedProx',\n",
    "        # 'FedScaffold',\n",
    "    ],\n",
    "    attributes=\"loss\",\n",
    "    mode=\"train\"\n",
    ")"
   ]
  },
  {
   "cell_type": "code",
   "execution_count": null,
   "id": "a2b7b226",
   "metadata": {},
   "outputs": [],
   "source": [
    "# Test Accuracy\n",
    "plot(\n",
    "    files=[\n",
    "        '../logs/mnist/fed_avg_dirichlet/mnist.json',\n",
    "        '../logs/mnist/fed_sgd_dirichlet/mnist.json',\n",
    "        '../logs/mnist/fed_ela_dirichlet/mnist.json',\n",
    "        '../logs/mnist/fed_prox_dirichlet/mnist.json',\n",
    "        '../logs/mnist/fed_scaffold_dirichlet/mnist.json',\n",
    "    ],\n",
    "    labels=[\n",
    "        'FedAvg',\n",
    "        'FedSgd',\n",
    "        'FedEla',\n",
    "        'FedProx',\n",
    "        'FedScaffold',\n",
    "    ],\n",
    "    attributes=\"accuracy\",\n",
    "    mode=\"test\"\n",
    ")"
   ]
  },
  {
   "cell_type": "code",
   "execution_count": null,
   "id": "02847b00",
   "metadata": {},
   "outputs": [],
   "source": [
    "# Test Loss\n",
    "plot(\n",
    "    files=[\n",
    "        '../logs/mnist/fed_avg_dirichlet/mnist.json',\n",
    "        '../logs/mnist/fed_sgd_dirichlet/mnist.json',\n",
    "        '../logs/mnist/fed_ela_dirichlet/mnist.json',\n",
    "        '../logs/mnist/fed_prox_dirichlet/mnist.json',\n",
    "        '../logs/mnist/fed_scaffold_dirichlet/mnist.json',\n",
    "    ],\n",
    "    labels=[\n",
    "        'FedAvg',\n",
    "        'FedSgd',\n",
    "        'FedEla',\n",
    "        'FedProx',\n",
    "        'FedScaffold',\n",
    "    ],\n",
    "    attributes=\"loss\",\n",
    "    mode='test'\n",
    ")"
   ]
  }
 ],
 "metadata": {
  "interpreter": {
   "hash": "0e6fd2d1cd7e2d86bf1f0b979bf122c4f5767f524de329087879d3b4cf9f9436"
  },
  "kernelspec": {
   "display_name": "Python 3",
   "language": "python",
   "name": "python3"
  },
  "language_info": {
   "codemirror_mode": {
    "name": "ipython",
    "version": 3
   },
   "file_extension": ".py",
   "mimetype": "text/x-python",
   "name": "python",
   "nbconvert_exporter": "python",
   "pygments_lexer": "ipython3",
   "version": "3.7.10"
  }
 },
 "nbformat": 4,
 "nbformat_minor": 5
}
