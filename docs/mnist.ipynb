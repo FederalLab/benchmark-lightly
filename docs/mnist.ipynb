{
 "cells": [
  {
   "cell_type": "markdown",
   "source": [
    "# mnist"
   ],
   "metadata": {}
  },
  {
   "cell_type": "code",
   "execution_count": 4,
   "source": [
    "rm -rf /tmp/mnist.share\n",
    "python -m openfed.tools.launch --nproc_per_node 6  --logdir /tmp benchmark/run.py --fed_init_method file:///tmp/mnist.share --network_args input_dim:784 --samples 10"
   ],
   "outputs": [
    {
     "output_type": "error",
     "ename": "SyntaxError",
     "evalue": "invalid syntax (<ipython-input-4-998f2c95ba19>, line 1)",
     "traceback": [
      "\u001b[0;36m  File \u001b[0;32m\"<ipython-input-4-998f2c95ba19>\"\u001b[0;36m, line \u001b[0;32m1\u001b[0m\n\u001b[0;31m    python -m openfed.tools.launch --nproc_per_node 6  --logdir /tmp benchmark/run.py --network_args input_dim:784 --samples 10\u001b[0m\n\u001b[0m                    ^\u001b[0m\n\u001b[0;31mSyntaxError\u001b[0m\u001b[0;31m:\u001b[0m invalid syntax\n"
     ]
    }
   ],
   "metadata": {}
  },
  {
   "cell_type": "markdown",
   "source": [],
   "metadata": {}
  }
 ],
 "metadata": {
  "kernelspec": {
   "name": "python3",
   "display_name": "Python 3.7.10 64-bit ('openfed': conda)"
  },
  "language_info": {
   "codemirror_mode": {
    "name": "ipython",
    "version": 3
   },
   "file_extension": ".py",
   "mimetype": "text/x-python",
   "name": "python",
   "nbconvert_exporter": "python",
   "pygments_lexer": "ipython3",
   "version": "3.7.10"
  },
  "interpreter": {
   "hash": "0e6fd2d1cd7e2d86bf1f0b979bf122c4f5767f524de329087879d3b4cf9f9436"
  }
 },
 "nbformat": 4,
 "nbformat_minor": 5
}