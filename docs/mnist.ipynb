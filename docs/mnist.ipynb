{
 "cells": [
  {
   "cell_type": "markdown",
   "id": "015f8053",
   "metadata": {},
   "source": [
    "# MNIST"
   ]
  },
  {
   "cell_type": "markdown",
   "id": "1d9a7f08",
   "metadata": {},
   "source": [
    "## Data Download"
   ]
  },
  {
   "cell_type": "code",
   "execution_count": 6,
   "id": "2ca0ff4d",
   "metadata": {},
   "outputs": [
    {
     "name": "stdout",
     "output_type": "stream",
     "text": [
      "Downloading http://yann.lecun.com/exdb/mnist/train-images-idx3-ubyte.gz\n",
      "Downloading http://yann.lecun.com/exdb/mnist/train-images-idx3-ubyte.gz to data/raw/raw/MNIST/raw/train-images-idx3-ubyte.gz\n",
      "9913344it [00:53, 185842.33it/s]                                                \n",
      "Extracting data/raw/raw/MNIST/raw/train-images-idx3-ubyte.gz to data/raw/raw/MNIST/raw\n",
      "\n",
      "Downloading http://yann.lecun.com/exdb/mnist/train-labels-idx1-ubyte.gz\n",
      "Downloading http://yann.lecun.com/exdb/mnist/train-labels-idx1-ubyte.gz to data/raw/raw/MNIST/raw/train-labels-idx1-ubyte.gz\n",
      "29696it [00:00, 8071154.20it/s]                                                 \n",
      "Extracting data/raw/raw/MNIST/raw/train-labels-idx1-ubyte.gz to data/raw/raw/MNIST/raw\n",
      "\n",
      "Downloading http://yann.lecun.com/exdb/mnist/t10k-images-idx3-ubyte.gz\n",
      "Downloading http://yann.lecun.com/exdb/mnist/t10k-images-idx3-ubyte.gz to data/raw/raw/MNIST/raw/t10k-images-idx3-ubyte.gz\n",
      "1649664it [00:09, 172234.61it/s]                                                \n",
      "Extracting data/raw/raw/MNIST/raw/t10k-images-idx3-ubyte.gz to data/raw/raw/MNIST/raw\n",
      "\n",
      "Downloading http://yann.lecun.com/exdb/mnist/t10k-labels-idx1-ubyte.gz\n",
      "Downloading http://yann.lecun.com/exdb/mnist/t10k-labels-idx1-ubyte.gz to data/raw/raw/MNIST/raw/t10k-labels-idx1-ubyte.gz\n",
      "5120it [00:00, 17718511.95it/s]                                                 \n",
      "Extracting data/raw/raw/MNIST/raw/t10k-labels-idx1-ubyte.gz to data/raw/raw/MNIST/raw\n",
      "\n",
      "Processing...\n",
      "/Users/densechen/miniconda3/envs/openfed/lib/python3.7/site-packages/torchvision/datasets/mnist.py:502: UserWarning: The given NumPy array is not writeable, and PyTorch does not support non-writeable tensors. This means you can write to the underlying (supposedly non-writeable) NumPy array using the tensor. You may want to copy the array to protect its data or make it writeable before converting it to a tensor. This type of warning will be suppressed for the rest of this program. (Triggered internally at  /Users/distiller/project/conda/conda-bld/pytorch_1616554799287/work/torch/csrc/utils/tensor_numpy.cpp:143.)\n",
      "  return torch.from_numpy(parsed.astype(m[2], copy=False)).view(*s)\n",
      "Done!\n",
      "+-------+---------+--------+------+\n",
      "| Parts | Samples |  Mean  | Var  |\n",
      "+-------+---------+--------+------+\n",
      "|  100  |  59600  | 596.00 | 0.00 |\n",
      "+-------+---------+--------+------+\n"
     ]
    }
   ],
   "source": [
    "!cd ../benchmark/datasets/mnist && mkdir -pv data/raw"
   ]
  },
  {
   "cell_type": "markdown",
   "id": "eac0760e",
   "metadata": {},
   "source": [
    "### Valid dataset"
   ]
  },
  {
   "cell_type": "code",
   "execution_count": 1,
   "id": "5eb52aa1",
   "metadata": {},
   "outputs": [
    {
     "name": "stdout",
     "output_type": "stream",
     "text": [
      "torch.Size([1, 28, 28]) torch.Size([])\n"
     ]
    }
   ],
   "source": [
    "from benchmark.datasets.mnist import get_mnist\n",
    "from torchvision.transforms import ToTensor\n",
    "\n",
    "dataset = get_mnist('../benchmark/datasets/mnist/data/', total_parts=100)\n",
    "\n",
    "x, y = dataset[0]\n",
    "\n",
    "print(x.shape, y.shape)"
   ]
  },
  {
   "cell_type": "markdown",
   "id": "ba3ecd58",
   "metadata": {},
   "source": [
    "## FedAvg"
   ]
  },
  {
   "cell_type": "code",
   "execution_count": 1,
   "id": "9943238c",
   "metadata": {},
   "outputs": [
    {
     "name": "stdout",
     "output_type": "stream",
     "text": [
      "Note: Stdout and stderr for collaborator-1 will be written to /tmp/openfed_node_collaborator-1_stdout, /tmp/openfed_node_collaborator-1_stderr respectively.\n",
      "Note: Stdout and stderr for collaborator-2 will be written to /tmp/openfed_node_collaborator-2_stdout, /tmp/openfed_node_collaborator-2_stderr respectively.\n",
      "Note: Stdout and stderr for collaborator-3 will be written to /tmp/openfed_node_collaborator-3_stdout, /tmp/openfed_node_collaborator-3_stderr respectively.\n",
      "Note: Stdout and stderr for collaborator-4 will be written to /tmp/openfed_node_collaborator-4_stdout, /tmp/openfed_node_collaborator-4_stderr respectively.\n",
      "Note: Stdout and stderr for collaborator-5 will be written to /tmp/openfed_node_collaborator-5_stdout, /tmp/openfed_node_collaborator-5_stderr respectively.\n",
      "Note: Stdout and stderr for collaborator-6 will be written to /tmp/openfed_node_collaborator-6_stdout, /tmp/openfed_node_collaborator-6_stderr respectively.\n",
      "Note: Stdout and stderr for collaborator-7 will be written to /tmp/openfed_node_collaborator-7_stdout, /tmp/openfed_node_collaborator-7_stderr respectively.\n",
      "Note: Stdout and stderr for collaborator-8 will be written to /tmp/openfed_node_collaborator-8_stdout, /tmp/openfed_node_collaborator-8_stderr respectively.\n",
      "Note: Stdout and stderr for collaborator-9 will be written to /tmp/openfed_node_collaborator-9_stdout, /tmp/openfed_node_collaborator-9_stderr respectively.\n",
      "Note: Stdout and stderr for collaborator-10 will be written to /tmp/openfed_node_collaborator-10_stdout, /tmp/openfed_node_collaborator-10_stderr respectively.\n",
      "Note: Stdout and stderr for collaborator-11 will be written to /tmp/openfed_node_collaborator-11_stdout, /tmp/openfed_node_collaborator-11_stderr respectively.\n",
      "Note: Stdout and stderr for collaborator-12 will be written to /tmp/openfed_node_collaborator-12_stdout, /tmp/openfed_node_collaborator-12_stderr respectively.\n",
      "Note: Stdout and stderr for collaborator-13 will be written to /tmp/openfed_node_collaborator-13_stdout, /tmp/openfed_node_collaborator-13_stderr respectively.\n",
      "Note: Stdout and stderr for collaborator-14 will be written to /tmp/openfed_node_collaborator-14_stdout, /tmp/openfed_node_collaborator-14_stderr respectively.\n",
      "Note: Stdout and stderr for collaborator-15 will be written to /tmp/openfed_node_collaborator-15_stdout, /tmp/openfed_node_collaborator-15_stderr respectively.\n",
      ">>> Load Props\n",
      "<OpenFed> FederatedProperties\n",
      "+--------------------+------------+\n",
      "|        role        | nick_name  |\n",
      "+--------------------+------------+\n",
      "| openfed_aggregator | aggregator |\n",
      "+--------------------+------------+\n",
      "<OpenFed> Address\n",
      "+---------+---------------------+------------+------+\n",
      "| backend |     init_method     | world_size | rank |\n",
      "+---------+---------------------+------------+------+\n",
      "|   gloo  | file:///...aredfile |     16     |  0   |\n",
      "+---------+---------------------+------------+------+\n",
      "\n",
      "\n",
      ">>> Seed everything...\n",
      ">>> Log argparse to json...\n",
      ">>> Config device...\n",
      "{'task': 'mnist', 'network_args': {}, 'data_root': '../benchmark/datasets/mnist/data', 'partition': 'dirichlet', 'partition_args': {'alpha': 100.0}, 'num_parts': 1000, 'tst_num_parts': 15, 'dataset_args': {}, 'epochs': 1, 'rounds': 40, 'act_clts': 15, 'act_clts_rat': 1.0, 'tst_act_clts': 15, 'tst_act_clts_rat': 1.0, 'max_acg_step': -1, 'optim': 'fedavg', 'optim_args': {'momentum': 0.9, 'weight_decay': 0.0001}, 'co_lr': 0.1, 'ag_lr': 1.0, 'bz': 100, 'gpu': True, 'log_dir': 'logs/mnist/fedavg_dirichlet', 'seed': 0, 'props': '/tmp/aggregator.json', 'exp_name': 'fedavg_dirichlet', 'device': device(type='cpu')}\n",
      "\tLet's use cpu.\n",
      ">>> Load dataset...\n",
      "PartitionerDataset(total_parts: 1000, total_samples: 60000, current_parts: 0)\n",
      "PartitionerDataset(total_parts: 15, total_samples: 60000, current_parts: 0)\n",
      ">>> Load dataLoader...\n",
      ">>> Build network...\n",
      "Mnist(\n",
      "  (logits): Linear(in_features=784, out_features=10, bias=True)\n",
      "  (loss_fn): CrossEntropyLoss()\n",
      ")\n",
      ">>> Move to device...\n",
      ">>> Federated Optimizer...\n",
      ">>> Lr Scheduler...\n",
      ">>> Maintainer...\n",
      "[W ProcessGroupGloo.cpp:559] Warning: Unable to resolve hostname to a (local) address. Using the loopback address as fallback. Manually set the network interface to bind to with GLOO_SOCKET_IFNAME. (function operator())\n",
      ">>> Register hooks...\n",
      "\tTrain Part: 1000\n",
      "\tActivated Train Part: 15\n",
      "\tTest Part: 15\n",
      "\tActivated Test Part: 15\n",
      "train: (0.49, 86.56%) test: (0.47, 86.63%): 100%|█| 40/40 [01:56<00:00,  2.90s/i\n"
     ]
    }
   ],
   "source": [
    "!python -m openfed.tools.simulator --nproc 16 --logdir /tmp/ ../main.py\\\n",
    "    --task mnist\\\n",
    "    --data_root ../benchmark/datasets/mnist/data\\\n",
    "    --partition dirichlet\\\n",
    "    --partition_args alpha:100.0\\\n",
    "    --num_parts 1000\\\n",
    "    --tst_num_parts 15\\\n",
    "    --epochs 1\\\n",
    "    --rounds 40\\\n",
    "    --act_clts 15\\\n",
    "    --tst_act_clts 15\\\n",
    "    --max_acg_step -1\\\n",
    "    --optim fedavg\\\n",
    "    --optim_args momentum:0.9 weight_decay:1e-4\\\n",
    "    --co_lr 0.1\\\n",
    "    --ag_lr 1.0\\\n",
    "    --bz 100\\\n",
    "    --gpu\\\n",
    "    --log_dir logs\\\n",
    "    --seed 0"
   ]
  },
  {
   "cell_type": "markdown",
   "id": "7125c3db",
   "metadata": {},
   "source": [
    "## FedEla"
   ]
  },
  {
   "cell_type": "code",
   "execution_count": 2,
   "id": "bc1e403a",
   "metadata": {},
   "outputs": [
    {
     "name": "stdout",
     "output_type": "stream",
     "text": [
      "Note: Stdout and stderr for collaborator-1 will be written to /tmp/openfed_node_collaborator-1_stdout, /tmp/openfed_node_collaborator-1_stderr respectively.\n",
      "Note: Stdout and stderr for collaborator-2 will be written to /tmp/openfed_node_collaborator-2_stdout, /tmp/openfed_node_collaborator-2_stderr respectively.\n",
      "Note: Stdout and stderr for collaborator-3 will be written to /tmp/openfed_node_collaborator-3_stdout, /tmp/openfed_node_collaborator-3_stderr respectively.\n",
      "Note: Stdout and stderr for collaborator-4 will be written to /tmp/openfed_node_collaborator-4_stdout, /tmp/openfed_node_collaborator-4_stderr respectively.\n",
      "Note: Stdout and stderr for collaborator-5 will be written to /tmp/openfed_node_collaborator-5_stdout, /tmp/openfed_node_collaborator-5_stderr respectively.\n",
      "Note: Stdout and stderr for collaborator-6 will be written to /tmp/openfed_node_collaborator-6_stdout, /tmp/openfed_node_collaborator-6_stderr respectively.\n",
      "Note: Stdout and stderr for collaborator-7 will be written to /tmp/openfed_node_collaborator-7_stdout, /tmp/openfed_node_collaborator-7_stderr respectively.\n",
      "Note: Stdout and stderr for collaborator-8 will be written to /tmp/openfed_node_collaborator-8_stdout, /tmp/openfed_node_collaborator-8_stderr respectively.\n",
      "Note: Stdout and stderr for collaborator-9 will be written to /tmp/openfed_node_collaborator-9_stdout, /tmp/openfed_node_collaborator-9_stderr respectively.\n",
      "Note: Stdout and stderr for collaborator-10 will be written to /tmp/openfed_node_collaborator-10_stdout, /tmp/openfed_node_collaborator-10_stderr respectively.\n",
      "Note: Stdout and stderr for collaborator-11 will be written to /tmp/openfed_node_collaborator-11_stdout, /tmp/openfed_node_collaborator-11_stderr respectively.\n",
      "Note: Stdout and stderr for collaborator-12 will be written to /tmp/openfed_node_collaborator-12_stdout, /tmp/openfed_node_collaborator-12_stderr respectively.\n",
      "Note: Stdout and stderr for collaborator-13 will be written to /tmp/openfed_node_collaborator-13_stdout, /tmp/openfed_node_collaborator-13_stderr respectively.\n",
      "Note: Stdout and stderr for collaborator-14 will be written to /tmp/openfed_node_collaborator-14_stdout, /tmp/openfed_node_collaborator-14_stderr respectively.\n",
      "Note: Stdout and stderr for collaborator-15 will be written to /tmp/openfed_node_collaborator-15_stdout, /tmp/openfed_node_collaborator-15_stderr respectively.\n",
      ">>> Load Props\n",
      "<OpenFed> FederatedProperties\n",
      "+--------------------+------------+\n",
      "|        role        | nick_name  |\n",
      "+--------------------+------------+\n",
      "| openfed_aggregator | aggregator |\n",
      "+--------------------+------------+\n",
      "<OpenFed> Address\n",
      "+---------+---------------------+------------+------+\n",
      "| backend |     init_method     | world_size | rank |\n",
      "+---------+---------------------+------------+------+\n",
      "|   gloo  | file:///...aredfile |     16     |  0   |\n",
      "+---------+---------------------+------------+------+\n",
      "\n",
      "\n",
      ">>> Seed everything...\n",
      ">>> Log argparse to json...\n",
      ">>> Config device...\n",
      "{'task': 'mnist', 'network_args': {}, 'data_root': '../benchmark/datasets/mnist/data', 'partition': 'dirichlet', 'partition_args': {'alpha': 100.0}, 'num_parts': 1000, 'tst_num_parts': 15, 'dataset_args': {}, 'epochs': 1, 'rounds': 40, 'act_clts': 15, 'act_clts_rat': 1.0, 'tst_act_clts': 15, 'tst_act_clts_rat': 1.0, 'max_acg_step': -1, 'optim': 'fedela', 'optim_args': {'momentum': 0.9, 'weight_decay': 0.0001}, 'co_lr': 0.1, 'ag_lr': 1.0, 'bz': 100, 'gpu': True, 'log_dir': 'logs/mnist/fedela_dirichlet', 'seed': 0, 'props': '/tmp/aggregator.json', 'exp_name': 'fedela_dirichlet', 'device': device(type='cpu')}\n",
      "\tLet's use cpu.\n",
      ">>> Load dataset...\n",
      "PartitionerDataset(total_parts: 1000, total_samples: 60000, current_parts: 0)\n",
      "PartitionerDataset(total_parts: 15, total_samples: 60000, current_parts: 0)\n",
      ">>> Load dataLoader...\n",
      ">>> Build network...\n",
      "Mnist(\n",
      "  (logits): Linear(in_features=784, out_features=10, bias=True)\n",
      "  (loss_fn): CrossEntropyLoss()\n",
      ")\n",
      ">>> Move to device...\n",
      ">>> Federated Optimizer...\n",
      ">>> Lr Scheduler...\n",
      ">>> Maintainer...\n",
      "[W ProcessGroupGloo.cpp:559] Warning: Unable to resolve hostname to a (local) address. Using the loopback address as fallback. Manually set the network interface to bind to with GLOO_SOCKET_IFNAME. (function operator())\n",
      ">>> Register hooks...\n",
      "\tTrain Part: 1000\n",
      "\tActivated Train Part: 15\n",
      "\tTest Part: 15\n",
      "\tActivated Test Part: 15\n",
      "train: (0.49, 86.56%) test: (0.47, 86.67%): 100%|█| 40/40 [02:03<00:00,  3.09s/i\n"
     ]
    }
   ],
   "source": [
    "!python -m openfed.tools.simulator --nproc 16 --logdir /tmp/ ../main.py\\\n",
    "    --task mnist\\\n",
    "    --data_root ../benchmark/datasets/mnist/data\\\n",
    "    --partition dirichlet\\\n",
    "    --partition_args alpha:100.0\\\n",
    "    --num_parts 1000\\\n",
    "    --tst_num_parts 15\\\n",
    "    --epochs 1\\\n",
    "    --rounds 40\\\n",
    "    --act_clts 15\\\n",
    "    --tst_act_clts 15\\\n",
    "    --max_acg_step -1\\\n",
    "    --optim fedela\\\n",
    "    --optim_args momentum:0.9 weight_decay:1e-4\\\n",
    "    --co_lr 0.1\\\n",
    "    --ag_lr 1.0\\\n",
    "    --bz 100\\\n",
    "    --gpu\\\n",
    "    --log_dir logs\\\n",
    "    --seed 0"
   ]
  },
  {
   "cell_type": "markdown",
   "id": "c427030a",
   "metadata": {},
   "source": [
    "## Plot Curves"
   ]
  },
  {
   "cell_type": "code",
   "execution_count": 5,
   "id": "adcdca78",
   "metadata": {},
   "outputs": [],
   "source": [
    "%matplotlib inline\n",
    "\n",
    "from benchmark.utils.plot import plot\n",
    "\n",
    "partition = \"dirichlet\"\n",
    "task_name = \"mnist\"\n",
    "\n",
    "items = dict(\n",
    "    FedAvg=f'logs/{task_name}/fedavg_{partition}/{task_name}.json',\n",
    "    # FedSgd=f'logs/{task_name}/fedsgd_{partition}/{task_name}.json',\n",
    "    FedEla=f'logs/{task_name}/fedela_{partition}/{task_name}.json',\n",
    "    # FedProx=f'logs/{task_name}/fedprox_{partition}/{task_name}.json',\n",
    "    # FedScaffold=f'logs/{task_name}/fedscaffold_{partition}/{task_name}.json',\n",
    ")\n",
    "\n",
    "files = items.values()\n",
    "labels = items.keys()"
   ]
  },
  {
   "cell_type": "markdown",
   "id": "cee0696e",
   "metadata": {},
   "source": [
    "### Train Accuracy"
   ]
  },
  {
   "cell_type": "code",
   "execution_count": 7,
   "id": "9da0afa5",
   "metadata": {},
   "outputs": [
    {
     "data": {
      "image/png": "[encoded data removed]",
      "text/plain": [
       "<Figure size 432x288 with 1 Axes>"
      ]
     },
     "metadata": {
      "needs_background": "light"
     },
     "output_type": "display_data"
    }
   ],
   "source": [
    "plot(\n",
    "    files=files,\n",
    "    labels=labels,\n",
    "    attributes=\"accuracy\",\n",
    "    mode='train'\n",
    ")"
   ]
  },
  {
   "cell_type": "markdown",
   "id": "a1581e8d",
   "metadata": {},
   "source": [
    "### Train Loss"
   ]
  },
  {
   "cell_type": "code",
   "execution_count": 8,
   "id": "2817a343",
   "metadata": {},
   "outputs": [
    {
     "data": {
      "image/png": "[encoded data removed]",
      "text/plain": [
       "<Figure size 432x288 with 1 Axes>"
      ]
     },
     "metadata": {
      "needs_background": "light"
     },
     "output_type": "display_data"
    }
   ],
   "source": [
    "plot(\n",
    "    files=files,\n",
    "    labels=labels,\n",
    "    attributes=\"loss\",\n",
    "    mode=\"train\"\n",
    ")"
   ]
  },
  {
   "cell_type": "markdown",
   "id": "e54ac9b1",
   "metadata": {},
   "source": [
    "### Test Accuracy"
   ]
  },
  {
   "cell_type": "code",
   "execution_count": 9,
   "id": "a2b7b226",
   "metadata": {},
   "outputs": [
    {
     "data": {
      "image/png": "[encoded data removed]",
      "text/plain": [
       "<Figure size 432x288 with 1 Axes>"
      ]
     },
     "metadata": {
      "needs_background": "light"
     },
     "output_type": "display_data"
    }
   ],
   "source": [
    "plot(\n",
    "    files=files,\n",
    "    labels=labels,\n",
    "    attributes=\"accuracy\",\n",
    "    mode=\"test\"\n",
    ")"
   ]
  },
  {
   "cell_type": "markdown",
   "id": "6c869eb7",
   "metadata": {},
   "source": [
    "### Test Loss"
   ]
  },
  {
   "cell_type": "code",
   "execution_count": 10,
   "id": "02847b00",
   "metadata": {},
   "outputs": [
    {
     "data": {
      "image/png": "[encoded data removed]",
      "text/plain": [
       "<Figure size 432x288 with 1 Axes>"
      ]
     },
     "metadata": {
      "needs_background": "light"
     },
     "output_type": "display_data"
    }
   ],
   "source": [
    "plot(\n",
    "    files=files,\n",
    "    labels=labels,\n",
    "    attributes=\"loss\",\n",
    "    mode='test'\n",
    ")"
   ]
  },
  {
   "cell_type": "code",
   "execution_count": null,
   "id": "d411b7a6",
   "metadata": {},
   "outputs": [],
   "source": []
  }
 ],
 "metadata": {
  "interpreter": {
   "hash": "0e6fd2d1cd7e2d86bf1f0b979bf122c4f5767f524de329087879d3b4cf9f9436"
  },
  "kernelspec": {
   "display_name": "Python 3",
   "language": "python",
   "name": "python3"
  },
  "language_info": {
   "codemirror_mode": {
    "name": "ipython",
    "version": 3
   },
   "file_extension": ".py",
   "mimetype": "text/x-python",
   "name": "python",
   "nbconvert_exporter": "python",
   "pygments_lexer": "ipython3",
   "version": "3.7.10"
  }
 },
 "nbformat": 4,
 "nbformat_minor": 5
}
