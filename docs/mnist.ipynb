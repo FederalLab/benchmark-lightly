{
 "cells": [
  {
   "cell_type": "markdown",
   "source": [
    "# mnist"
   ],
   "metadata": {}
  },
  {
   "cell_type": "markdown",
   "source": [
    "```bash\n",
    "rm -rf /tmp/mnist.share\n",
    "python -m openfed.tools.launch --nproc_per_node 6  --logdir /tmp benchmark/run.py --fed_init_method file:///tmp/mnist.share --network_args input_dim:784 --samples 10\n",
    "```"
   ],
   "metadata": {}
  },
  {
   "cell_type": "markdown",
   "source": [],
   "metadata": {}
  }
 ],
 "metadata": {
  "kernelspec": {
   "name": "python3",
   "display_name": "Python 3.7.10 64-bit ('openfed': conda)"
  },
  "language_info": {
   "codemirror_mode": {
    "name": "ipython",
    "version": 3
   },
   "file_extension": ".py",
   "mimetype": "text/x-python",
   "name": "python",
   "nbconvert_exporter": "python",
   "pygments_lexer": "ipython3",
   "version": "3.7.10"
  },
  "interpreter": {
   "hash": "0e6fd2d1cd7e2d86bf1f0b979bf122c4f5767f524de329087879d3b4cf9f9436"
  }
 },
 "nbformat": 4,
 "nbformat_minor": 5
}