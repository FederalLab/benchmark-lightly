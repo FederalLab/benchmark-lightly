{
 "cells": [
  {
   "cell_type": "markdown",
   "id": "1a5d2e68",
   "metadata": {},
   "source": [
    "# Stackoverflow"
   ]
  },
  {
   "cell_type": "markdown",
   "id": "3a1162d3",
   "metadata": {},
   "source": [
    "## Data Download"
   ]
  },
  {
   "cell_type": "markdown",
   "id": "c914c49b",
   "metadata": {},
   "source": [
    "### Download the proprocessed dataset from [FedML](https://github.com/FedML-AI/FedML)"
   ]
  },
  {
   "cell_type": "code",
   "execution_count": null,
   "id": "633ec3dc",
   "metadata": {},
   "outputs": [],
   "source": [
    "!cd ../benchmark/datasets/stackoverflow && mkdir -pv data/raw\n",
    "!cd ../benchmark/datasets/stackoverflow/data/raw && wget --no-check-certificate --no-proxy  https://fedml.s3-us-west-1.amazonaws.com/stackoverflow.tag_count.tar.bz2\n",
    "!cd ../benchmark/datasets/stackoverflow/data/raw && wget --no-check-certificate --no-proxy  https://fedml.s3-us-west-1.amazonaws.com/stackoverflow.word_count.tar.bz2\n",
    "!cd ../benchmark/datasets/stackoverflow/data/raw && wget --no-check-certificate --no-proxy  https://fedml.s3-us-west-1.amazonaws.com/stackoverflow.tar.bz2\n",
    "!cd ../benchmark/datasets/stackoverflow/data/raw && wget --no-check-certificate --no-proxy  https://fedml.s3-us-west-1.amazonaws.com/stackoverflow_nwp.pkl\n",
    "    \n",
    "!cd ../benchmark/datasets/stackoverflow/data/raw && tar -xvf stackoverflow.tag_count.tar.bz2 && rm -rf stackoverflow.tag_count.tar.bz2\n",
    "!cd ../benchmark/datasets/stackoverflow/data/raw && tar -xvf stackoverflow.word_count.tar.bz2 && rm -rf stackoverflow.word_count.tar.bz2\n",
    "!cd ../benchmark/datasets/stackoverflow/data/raw && tar -xvf stackoverflow.tar.bz2 && rm -rf stackoverflow.tar.bz2"
   ]
  },
  {
   "cell_type": "markdown",
   "id": "74bc5133",
   "metadata": {},
   "source": [
    "### Valid Dataset"
   ]
  },
  {
   "cell_type": "code",
   "execution_count": 1,
   "id": "dbacaf9b",
   "metadata": {},
   "outputs": [
    {
     "name": "stdout",
     "output_type": "stream",
     "text": [
      "StackOverFlowTP(total_parts: 342477, total_samples: <bound method StackOverFlowTP.total_samples of <benchmark.datasets.stackoverflow.stackoverflow.StackOverFlowTP object at 0x7fb9482ed810>>, current_parts: 0)\n",
      "torch.Size([10003]) torch.Size([500])\n",
      "StackOverFlowNWP(total_parts: 342477, total_samples: <bound method StackOverFlowNWP.total_samples of <benchmark.datasets.stackoverflow.stackoverflow.StackOverFlowNWP object at 0x7fb968f52ed0>>, current_parts: 0)\n",
      "torch.Size([20]) torch.Size([20])\n"
     ]
    },
    {
     "name": "stderr",
     "output_type": "stream",
     "text": [
      "/Users/densechen/miniconda3/envs/openfed/lib/python3.7/site-packages/benchmark-0.0.0-py3.7.egg/benchmark/datasets/utils/transforms.py:34: UserWarning: To copy construct from a tensor, it is recommended to use sourceTensor.clone().detach() or sourceTensor.clone().detach().requires_grad_(True), rather than torch.tensor(sourceTensor).\n",
      "  return torch.tensor(x).float()\n"
     ]
    }
   ],
   "source": [
    "from benchmark.datasets.stackoverflow import get_stackoverflow\n",
    "dataset = get_stackoverflow('../benchmark/datasets/stackoverflow/data', mode='tp')\n",
    "print(dataset)\n",
    "x, y = dataset[0]\n",
    "print(x.shape, y.shape)\n",
    "\n",
    "dataset = get_stackoverflow('../benchmark/datasets/stackoverflow/data', mode='nwp')\n",
    "print(dataset)\n",
    "x, y = dataset[0]\n",
    "print(x.shape, y.shape)"
   ]
  },
  {
   "cell_type": "markdown",
   "id": "8f94229c",
   "metadata": {},
   "source": [
    "## FedAvg, FedSGD, FedEla, FedProx, FedScaffold\n",
    "\n",
    "Run following commands in the root path of `benchmark-lightly`.\n",
    "\n",
    "```bash\n",
    "function cmd(){\n",
    "    fed_optim=$1\n",
    "\n",
    "    task_name=\"stackoverflow\"\n",
    "    exp_name=${fed_optim}_${task_name}\n",
    "\n",
    "    # Delete cache file\n",
    "    rm -rf /tmp/${exp_name}.share\n",
    "    rm -rf /tmp/${exp_name}\n",
    "    rm -rf ./logs/${task_name}/${fed_optim}\n",
    "\n",
    "    # Run\n",
    "    python -m openfed.tools.launch --nproc_per_node 6  --logdir /tmp benchmark/run.py\\\n",
    "        --fed_init_method file:///tmp/${exp_name}.share\\\n",
    "        --task ${task_name}\\\n",
    "        --data_root benchmark/datasets/${task_name}/data\\\n",
    "        --epochs 1\\\n",
    "        --rounds 20\\\n",
    "        --act_clts 100\\\n",
    "        --tst_act_clts 100\\\n",
    "        --max_acg_step -1\\\n",
    "        --optim ${fed_optim}\\\n",
    "        --optim_args momentum:0.9 weight_decay:1e-4\\\n",
    "        --follower_lr 1e-1\\\n",
    "        --leader_lr 1.0\\\n",
    "        --bz 10\\\n",
    "        --gpu\\\n",
    "        --log_level SUCCESS\\\n",
    "        --log_dir logs\\\n",
    "        --exp_name ${exp_name}\\\n",
    "        --seed 0\n",
    "}\n",
    "```"
   ]
  },
  {
   "cell_type": "markdown",
   "id": "0c5f9be7",
   "metadata": {},
   "source": [
    "### Run All\n",
    "\n",
    "```bash\n",
    "cmd 'fedavg'; cmd 'fedsgd'; cmd 'fedela'; cmd 'fedprox'; cmd 'fedscaffold'\n",
    "```"
   ]
  },
  {
   "cell_type": "markdown",
   "id": "836db013",
   "metadata": {},
   "source": [
    "## Plot Curves"
   ]
  },
  {
   "cell_type": "code",
   "execution_count": null,
   "id": "3f43619f",
   "metadata": {},
   "outputs": [],
   "source": [
    "%matplotlib inline\n",
    "\n",
    "from benchmark.utils.plot import plot\n",
    "\n",
    "task_name = \"synthetic\"\n",
    "\n",
    "items = dict(\n",
    "    FedAvg=f'../logs/{task_name}/fedavg_{task_name}/{task_name}.json',\n",
    "    FedSgd=f'../logs/{task_name}/fedsgd_{task_name}/{task_name}.json',\n",
    "    FedEla=f'../logs/{task_name}/fedela_{task_name}/{task_name}.json',\n",
    "    FedProx=f'../logs/{task_name}/fedprox_{task_name}/{task_name}.json',\n",
    "    FedScaffold=f'../logs/{task_name}/fedscaffold_{task_name}/{task_name}.json',\n",
    ")\n",
    "\n",
    "files = items.values()\n",
    "labels = items.keys()"
   ]
  },
  {
   "cell_type": "markdown",
   "id": "7d6bdc12",
   "metadata": {},
   "source": [
    "### Train Accuracy"
   ]
  },
  {
   "cell_type": "code",
   "execution_count": null,
   "id": "c8635c68",
   "metadata": {},
   "outputs": [],
   "source": [
    "plot(\n",
    "    files=files,\n",
    "    labels=labels,\n",
    "    attributes=\"accuracy\",\n",
    "    mode='train'\n",
    ")"
   ]
  },
  {
   "cell_type": "markdown",
   "id": "ffcc230c",
   "metadata": {},
   "source": [
    "### Train Loss"
   ]
  },
  {
   "cell_type": "code",
   "execution_count": null,
   "id": "f233dd56",
   "metadata": {},
   "outputs": [],
   "source": [
    "plot(\n",
    "    files=files,\n",
    "    labels=labels,\n",
    "    attributes=\"accuracy\",\n",
    "    mode='train'\n",
    ")"
   ]
  },
  {
   "cell_type": "markdown",
   "id": "9cc2c74f",
   "metadata": {},
   "source": [
    "### Test Accuracy"
   ]
  },
  {
   "cell_type": "code",
   "execution_count": null,
   "id": "5472fe89",
   "metadata": {},
   "outputs": [],
   "source": [
    "plot(\n",
    "    files=files,\n",
    "    labels=labels,\n",
    "    attributes=\"accuracy\",\n",
    "    mode=\"test\"\n",
    ")"
   ]
  },
  {
   "cell_type": "markdown",
   "id": "b03a924f",
   "metadata": {},
   "source": [
    "### Test Loss"
   ]
  },
  {
   "cell_type": "code",
   "execution_count": null,
   "id": "daf06b98",
   "metadata": {},
   "outputs": [],
   "source": [
    "plot(\n",
    "    files=files,\n",
    "    labels=labels,\n",
    "    attributes=\"loss\",\n",
    "    mode='test'\n",
    ")"
   ]
  }
 ],
 "metadata": {
  "kernelspec": {
   "display_name": "Python 3",
   "language": "python",
   "name": "python3"
  },
  "language_info": {
   "codemirror_mode": {
    "name": "ipython",
    "version": 3
   },
   "file_extension": ".py",
   "mimetype": "text/x-python",
   "name": "python",
   "nbconvert_exporter": "python",
   "pygments_lexer": "ipython3",
   "version": "3.7.10"
  }
 },
 "nbformat": 4,
 "nbformat_minor": 5
}
